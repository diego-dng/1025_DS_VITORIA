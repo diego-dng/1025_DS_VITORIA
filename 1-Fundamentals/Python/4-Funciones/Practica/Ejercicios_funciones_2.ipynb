{
 "cells": [
  {
   "cell_type": "markdown",
   "metadata": {},
   "source": [
    "![imagen](./img/ejercicios.png)"
   ]
  },
  {
   "cell_type": "markdown",
   "metadata": {},
   "source": [
    "# Ejercicios funciones\n",
    "## Ejercicio 1\n",
    "Escribe una función que convierta números del 1 al 7 en nombres de los dias de la semana. La función constará de un único argumento numérico y una salida de tipo string"
   ]
  },
  {
   "cell_type": "code",
   "execution_count": 5,
   "metadata": {},
   "outputs": [],
   "source": [
    "def dias(dia):\n",
    "    match dia:\n",
    "        case 1:\n",
    "            nombre_dia = \"Lunes\"\n",
    "        case 2:\n",
    "            nombre_dia = \"Martes\"\n",
    "        case 3:\n",
    "            nombre_dia = \"Miercoles\"\n",
    "        case 4:\n",
    "            nombre_dia = \"Jueves\"\n",
    "        case 5:\n",
    "            nombre_dia = \"Viernes\"\n",
    "        case 6:\n",
    "            nombre_dia = \"Sabado\"\n",
    "        case 7:\n",
    "            nombre_dia = \"Domingo\"\n",
    "        case _:\n",
    "            nombre_dia = \"Dia no valido\"\n",
    "\n",
    "    return nombre_dia"
   ]
  },
  {
   "cell_type": "code",
   "execution_count": 6,
   "metadata": {},
   "outputs": [
    {
     "name": "stdout",
     "output_type": "stream",
     "text": [
      "Martes\n"
     ]
    }
   ],
   "source": [
    "valor = int(input(\"Numero del dia de la semana\"))\n",
    "res = dias(valor)\n",
    "print(res)"
   ]
  },
  {
   "cell_type": "markdown",
   "metadata": {},
   "source": [
    "## Ejercicio 2\n",
    "En el ejercicio 8 de flujos de control, creábamos una pirámide invertida de números desde el 5. Crea una función que replique el comportamiento de la pirámide, y utiliza un único parámetro de entrada de la función para determinar el número de filas de la pirámide."
   ]
  },
  {
   "cell_type": "code",
   "execution_count": 7,
   "metadata": {},
   "outputs": [],
   "source": [
    "def piramide(n):\n",
    "    lista = list(range(n, 0, -1))\n",
    "    while len(lista) > 0:\n",
    "        print(*lista)\n",
    "        lista.pop(0)\n",
    "   \n"
   ]
  },
  {
   "cell_type": "code",
   "execution_count": 8,
   "metadata": {},
   "outputs": [
    {
     "name": "stdout",
     "output_type": "stream",
     "text": [
      "12 11 10 9 8 7 6 5 4 3 2 1\n",
      "11 10 9 8 7 6 5 4 3 2 1\n",
      "10 9 8 7 6 5 4 3 2 1\n",
      "9 8 7 6 5 4 3 2 1\n",
      "8 7 6 5 4 3 2 1\n",
      "7 6 5 4 3 2 1\n",
      "6 5 4 3 2 1\n",
      "5 4 3 2 1\n",
      "4 3 2 1\n",
      "3 2 1\n",
      "2 1\n",
      "1\n"
     ]
    }
   ],
   "source": [
    "piramide(12)\n"
   ]
  },
  {
   "cell_type": "markdown",
   "metadata": {},
   "source": [
    "## Ejercicio 3\n",
    "Escribe una función que compare dos números. La función tiene dos argumentos y hay tres salidas posibles: que sean iguales, que el primero sea  mayor que el segundo, o que el segundo sea mayor que el primero"
   ]
  },
  {
   "cell_type": "code",
   "execution_count": 9,
   "metadata": {},
   "outputs": [],
   "source": [
    "def comp(n_1, n_2):\n",
    "    if n_1 == n_2:\n",
    "        res = \"Los numeros son iguales\"\n",
    "    elif n_1 > n_2:\n",
    "        res = \"El primer numero es mayor que el segundo.\"\n",
    "    else:\n",
    "        res = \"El segundo numero es mayor que el primero\"\n",
    "    \n",
    "    return res\n"
   ]
  },
  {
   "cell_type": "code",
   "execution_count": 10,
   "metadata": {},
   "outputs": [
    {
     "name": "stdout",
     "output_type": "stream",
     "text": [
      "Los numeros son iguales\n"
     ]
    }
   ],
   "source": [
    "res = comp(5,5)\n",
    "print(res)"
   ]
  },
  {
   "attachments": {},
   "cell_type": "markdown",
   "metadata": {},
   "source": [
    "## Ejercicio 4\n",
    "Escribe una función que sea un contador de letras. En el primer argumento tienes que introducir un texto, y el segundo que sea una letra que contar. La función tiene que devolver un entero con el número de veces que aparece esa letra, tanto mayúscula, como minúscula"
   ]
  },
  {
   "cell_type": "code",
   "execution_count": 11,
   "metadata": {},
   "outputs": [],
   "source": [
    "def contar(texto, letra):\n",
    "    try:\n",
    "        texto = texto.lower()\n",
    "        letra = letra.lower()\n",
    "        return texto.count(letra)\n",
    "    except:\n",
    "        return \"Valor no correcto\""
   ]
  },
  {
   "cell_type": "code",
   "execution_count": 12,
   "metadata": {},
   "outputs": [
    {
     "data": {
      "text/plain": [
       "'Valor no correcto'"
      ]
     },
     "execution_count": 12,
     "metadata": {},
     "output_type": "execute_result"
    }
   ],
   "source": [
    "contar(\"Hola MundoO\", 0)"
   ]
  },
  {
   "cell_type": "markdown",
   "metadata": {},
   "source": [
    "## Ejercicio 5\n",
    "Escribe una función que tenga un único argumento, un string. La salida de la función tiene que ser un diccionario con el conteo de todas las letras de ese string, siendo la clave la letra y el valor el conteo."
   ]
  },
  {
   "cell_type": "code",
   "execution_count": 13,
   "metadata": {},
   "outputs": [],
   "source": [
    "def cont_letras(texto):\n",
    "    texto = texto.lower()\n",
    "    dict_letras = {}\n",
    "\n",
    "    for i in texto:\n",
    "        if i.isalpha():\n",
    "            if i in dict_letras:\n",
    "                dict_letras[i] += 1\n",
    "            else:\n",
    "                dict_letras[i] = 1\n",
    "    return dict_letras\n"
   ]
  },
  {
   "cell_type": "code",
   "execution_count": 14,
   "metadata": {},
   "outputs": [
    {
     "name": "stdout",
     "output_type": "stream",
     "text": [
      "{'e': 3, 'n': 3, 'u': 2, 'l': 2, 'g': 1, 'a': 4, 'r': 1, 'd': 2, 'm': 1, 'c': 1, 'h': 1}\n"
     ]
    }
   ],
   "source": [
    "res = cont_letras(\"En un lugar de la Mancha, de...\")\n",
    "print(res)"
   ]
  },
  {
   "cell_type": "markdown",
   "metadata": {},
   "source": [
    "## Ejercicio 6\n",
    "Escribir una función que añada o elimine elementos en una lista. La función necesita los siguientes argumentos:\n",
    "* lista: la lista donde se añadirán o eliminarán los elementos\n",
    "* comando: \"add\" o \"remove\"\n",
    "* elemento: Por defecto es None.\n",
    "\n",
    "Tendrá como salida la lista"
   ]
  },
  {
   "cell_type": "code",
   "execution_count": 15,
   "metadata": {},
   "outputs": [],
   "source": [
    "def add_lista(lista, comando, elemento = None): \n",
    "    comando = comando.lower()\n",
    "    if comando == \"add\" and elemento is not None:\n",
    "        lista.append(elemento)\n",
    "    elif comando == \"remove\":\n",
    "        try:\n",
    "            lista.remove(elemento) \n",
    "        except:\n",
    "            return \"Elemento no encontrado en la lista\"\n",
    "    else:\n",
    "        return \"Comando incorrecto\"\n",
    "    return lista"
   ]
  },
  {
   "cell_type": "code",
   "execution_count": 16,
   "metadata": {},
   "outputs": [
    {
     "name": "stdout",
     "output_type": "stream",
     "text": [
      "Elemento no encontrado en la lista\n"
     ]
    }
   ],
   "source": [
    "res = add_lista([1,2,\"r\", True], \"remove\", \"Prueba\")\n",
    "print(res)"
   ]
  },
  {
   "cell_type": "markdown",
   "metadata": {},
   "source": [
    "## Ejercicio 7\n",
    "Crea una función que reciba un número arbitrario de palabras, y devuelva una frase completa, separando las palabras con espacios."
   ]
  },
  {
   "cell_type": "code",
   "execution_count": 17,
   "metadata": {},
   "outputs": [],
   "source": [
    "def palabras(*args):\n",
    "    return \" \".join(args)"
   ]
  },
  {
   "cell_type": "code",
   "execution_count": 18,
   "metadata": {},
   "outputs": [
    {
     "name": "stdout",
     "output_type": "stream",
     "text": [
      "Hola que tal ??\n"
     ]
    }
   ],
   "source": [
    "res = palabras(\"Hola\", \"que\", \"tal\", \"??\")\n",
    "print(res)"
   ]
  },
  {
   "cell_type": "markdown",
   "metadata": {},
   "source": [
    "## Ejercicio 8\n",
    "Escribe un programa que obtenga el enésimo número de la [serie de Fibonacci](https://es.wikipedia.org/wiki/Sucesi%C3%B3n_de_Fibonacci). Tienes que crear una función recursiva con un único argumento.\n",
    "\n",
    "```Python\n",
    "fibonacci(2) = 1\n",
    "fibonacci(4) = 3\n",
    "fibonacci(5) = 5\n",
    "fibonacci(8) = 21\n",
    "```"
   ]
  },
  {
   "cell_type": "markdown",
   "metadata": {},
   "source": [
    "fibonacci(n) = fibonacci(n-1) + fibonacci(n-2)"
   ]
  },
  {
   "cell_type": "code",
   "execution_count": 19,
   "metadata": {},
   "outputs": [],
   "source": [
    "def fibonacci(n):\n",
    "    if n == 0  or n == 1:\n",
    "        return n\n",
    "    else:\n",
    "        return fibonacci(n-1) + fibonacci(n-2)\n",
    "    "
   ]
  },
  {
   "cell_type": "code",
   "execution_count": 20,
   "metadata": {},
   "outputs": [
    {
     "name": "stdout",
     "output_type": "stream",
     "text": [
      "1\n"
     ]
    }
   ],
   "source": [
    "res = fibonacci(2)\n",
    "print(res)"
   ]
  },
  {
   "attachments": {},
   "cell_type": "markdown",
   "metadata": {},
   "source": [
    "## Ejercicio 9\n",
    "Define en una única celda las siguientes funciones:\n",
    "* Función que calcule el área de un cuadrado\n",
    "* Función que calcule el área de un triángulo\n",
    "* Función que calcule el área de un círculo\n",
    "\n",
    "En otra celda, calcular el area de:\n",
    "* Dos círculos de radio 10 + un triángulo de base 3 y altura 7\n",
    "* Un cuadrado de lado = 10 + 3 círculos (uno de radio = 4 y los otros dos de radio = 6) + 5 triángulos de base = 2 + altura = 4"
   ]
  },
  {
   "cell_type": "code",
   "execution_count": null,
   "metadata": {},
   "outputs": [
    {
     "data": {
      "text/plain": [
       "'import math\\n\\ndef cuadrado(l):\\n    return l**2\\n\\ndef triangulo(b, a):\\n    return b*a/2\\n\\ndef circulo(r):\\n    return math.pi * r**2'"
      ]
     },
     "execution_count": 21,
     "metadata": {},
     "output_type": "execute_result"
    }
   ],
   "source": [
    "import math\n",
    "\n",
    "def cuadrado(l):\n",
    "    return l**2\n",
    "\n",
    "def triangulo(b, a):\n",
    "    return b*a/2\n",
    "\n",
    "def circulo(r):\n",
    "    return math.pi * r**2"
   ]
  },
  {
   "cell_type": "code",
   "execution_count": 22,
   "metadata": {},
   "outputs": [
    {
     "ename": "NameError",
     "evalue": "name 'circulo' is not defined",
     "output_type": "error",
     "traceback": [
      "\u001b[31m---------------------------------------------------------------------------\u001b[39m",
      "\u001b[31mNameError\u001b[39m                                 Traceback (most recent call last)",
      "\u001b[36mCell\u001b[39m\u001b[36m \u001b[39m\u001b[32mIn[22]\u001b[39m\u001b[32m, line 1\u001b[39m\n\u001b[32m----> \u001b[39m\u001b[32m1\u001b[39m \u001b[38;5;28mprint\u001b[39m(\u001b[32m2\u001b[39m * \u001b[43mcirculo\u001b[49m(\u001b[32m10\u001b[39m) + triangulo(\u001b[32m3\u001b[39m, \u001b[32m7\u001b[39m))\n\u001b[32m      2\u001b[39m \u001b[38;5;28mprint\u001b[39m(cuadrado(\u001b[32m10\u001b[39m) + circulo(\u001b[32m4\u001b[39m) + \u001b[32m2\u001b[39m * circulo(\u001b[32m6\u001b[39m) + \u001b[32m5\u001b[39m* triangulo(\u001b[32m2\u001b[39m, \u001b[32m4\u001b[39m))\n",
      "\u001b[31mNameError\u001b[39m: name 'circulo' is not defined"
     ]
    }
   ],
   "source": [
    "print(2 * circulo(10) + triangulo(3, 7))\n",
    "print(cuadrado(10) + circulo(4) + 2 * circulo(6) + 5* triangulo(2, 4))"
   ]
  },
  {
   "cell_type": "markdown",
   "metadata": {},
   "source": [
    "## Ejercicio 10\n",
    "\n",
    "Guarda las funciones de estos ejercicios en un fichero llamado `funciones.py` e importalas desde este jupyter notebook para probar que puedes hacer uso de ellas."
   ]
  }
 ],
 "metadata": {
  "kernelspec": {
   "display_name": "Python 3",
   "language": "python",
   "name": "python3"
  },
  "language_info": {
   "codemirror_mode": {
    "name": "ipython",
    "version": 3
   },
   "file_extension": ".py",
   "mimetype": "text/x-python",
   "name": "python",
   "nbconvert_exporter": "python",
   "pygments_lexer": "ipython3",
   "version": "3.11.4"
  }
 },
 "nbformat": 4,
 "nbformat_minor": 4
}
