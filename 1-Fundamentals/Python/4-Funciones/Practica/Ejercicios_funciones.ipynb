{
  "cells": [
    {
      "cell_type": "markdown",
      "metadata": {
        "id": "AyOlWS2nRWxH"
      },
      "source": [
        "## PRACTICA OBLIGATORIA: COLECCIONES Y FUNCIONES"
      ]
    },
    {
      "cell_type": "markdown",
      "metadata": {
        "id": "6UOgb0KVRWxH"
      },
      "source": [
        "* La práctica obligatoria de esta unidad consiste varios ejercicios de programación libre a completar sobre Colecciones y Funciones. Descarga este notebook en tu ordenador y trabaja en local.  \n",
        "* Recuerda que debes subirla a tu repositorio personal antes de la sesión en vivo para que puntúe adecuadamente y puedas participar en dicha sesión.  \n",
        "* Recuerda también que no es necesario que esté perfecta, sólo es necesario que se vea el esfuerzo.\n",
        "* Esta práctica se resolverá en la sesión en vivo correspondiente y la solución se publicará en el repo del curso."
      ]
    },
    {
      "cell_type": "markdown",
      "metadata": {
        "id": "j3yu-tEjRWxH"
      },
      "source": [
        "### Contenidos"
      ]
    },
    {
      "cell_type": "markdown",
      "metadata": {
        "id": "kO-fLH39RWxH"
      },
      "source": [
        "## Ejercicio 1\n",
        "Eleva todos los elementos de la lista al cuadrado\n",
        "> ```ejer_2 = [1,2,3,4,5]```"
      ]
    },
    {
      "cell_type": "code",
      "execution_count": null,
      "metadata": {
        "id": "ks5l3yi7RWxH"
      },
      "outputs": [],
      "source": [
        "def cuadrado(lista):\n",
        "    try:\n",
        "        ejer_2_cuadrado = []\n",
        "        for i in lista:\n",
        "            ejer_2_cuadrado.append(i**2)\n",
        "\n",
        "        return ejer_2_cuadrado\n",
        "    except:\n",
        "        return \"Tipo de dato incorrecto. Solo permito listas\""
      ]
    },
    {
      "cell_type": "code",
      "execution_count": null,
      "metadata": {},
      "outputs": [],
      "source": [
        "ejer_2 = [1,2,3,4,5]\n",
        "ejer_2_1 = [2,4,6,8,10]\n",
        "\n",
        "lista_1  = cuadrado(\"ejer_2\")\n",
        "lista_2 = cuadrado(ejer_2_1)\n",
        "\n",
        "print(lista_1)\n",
        "print(lista_2)"
      ]
    },
    {
      "cell_type": "markdown",
      "metadata": {
        "id": "kI_Xr5oFRWxI"
      },
      "source": [
        "## Ejercicio 2\n",
        "Haz un programa que detecte todos los duplicados de un elemento en una lista:\n",
        "* Utiliza una variable duplicado para asignarle el valor del elemento del que queremos encontrar todos sus duplicados.\n",
        "* El programa debe devolver todos los índices de los elementos duplicados.\n",
        "* Aplícalo para encontrar los duplicados de \"un\", \"es\" y \"binario\" de:  \n",
        "\n",
        ">```ejer_3 = [\"Un\", \"árbol\", \"binario\", \"es\", \"una\", \"estructura\", \"de\", \"un\", \"tipo\", \"particular\", \"a\", \"veces\", \"no\", \"es\", \"ni\", \"binario\"]```\n"
      ]
    },
    {
      "cell_type": "code",
      "execution_count": null,
      "metadata": {
        "id": "cLY9WB7YRWxI"
      },
      "outputs": [],
      "source": [
        "\n",
        "def duplicados(lista):\n",
        "    ejer_3_m = []\n",
        "    ejer_3_duplicados =  []\n",
        "    for i in lista:\n",
        "        i = i.lower()\n",
        "        ejer_3_m.append(i)\n",
        "\n",
        "    for pos, valor in enumerate(ejer_3_m):\n",
        "        if ejer_3_m.count(j) > 1:\n",
        "            ejer_3_duplicados.append(i)\n",
        "            \n",
        "    return ejer_3_duplicados\n"
      ]
    },
    {
      "cell_type": "code",
      "execution_count": null,
      "metadata": {},
      "outputs": [],
      "source": [
        "ejer_3 = [\"Un\", \"árbol\", \"binario\", \"es\", \"una\", \"estructura\", \"de\", \"un\", \"tipo\", \"particular\", \"a\", \"veces\", \"no\", \"es\", \"ni\", \"binario\"]\n",
        "lista_2 = duplicados(ejer_3)\n",
        "print(lista_2)"
      ]
    },
    {
      "cell_type": "markdown",
      "metadata": {
        "id": "3WrBd5QaRWxI"
      },
      "source": [
        "## Ejercicio 3\n",
        "1. ¿Cuántas veces se repite el 3 en la siguiente tupla?\n",
        "2. Crea una tupla nueva con los elementos desde la posicion 5 a la 10.\n",
        "3. ¿Cuántos elementos tiene la tupla `ejer_3`?\n",
        "> ```ejer_9 = (3, 20, 3, 47, 19, 3, 29, 45, 67, 78, 90, 3, 3, 5, 2, 4, 7, 9, 4, 2, 4, 3, 3, 4, 6, 7)```"
      ]
    },
    {
      "cell_type": "code",
      "execution_count": null,
      "metadata": {},
      "outputs": [],
      "source": [
        "def utils(lista):    \n",
        "    count = lista.count()\n",
        "    elem = lista[5:11]\n",
        "    num = len(lista)\n",
        "\n",
        "    return count, elem, num\n"
      ]
    },
    {
      "cell_type": "code",
      "execution_count": null,
      "metadata": {
        "id": "bkv_R5LYRWxI"
      },
      "outputs": [],
      "source": [
        "ejer_3 = (3, 20, 3, 47, 19, 3, 29, 45, 67, 78, 90, 3, 3, 5, 2, 4, 7, 9, 4, 2, 4, 3, 3, 4, 6, 7)\n",
        "\n",
        "r_count, r_elem, r_num = utils(ejer_3)\n",
        "\n",
        "print(f\"\"\"El la lista se repite {r_count} el numero 3. \n",
        "      Estos son los numeros entre la posición 5 y 10: {r_elem}.\n",
        "      Esta es la longitud de la lista : {r_num}\"\"\")"
      ]
    },
    {
      "cell_type": "markdown",
      "metadata": {
        "id": "6g8Y54AeRWxI"
      },
      "source": [
        "## Ejercicio 4\n",
        "Comprueba si el numero 60 esta en la tupla del ejercicio 3"
      ]
    },
    {
      "cell_type": "code",
      "execution_count": null,
      "metadata": {},
      "outputs": [],
      "source": [
        "def numero(lista, num):\n",
        "    if lista.count(num) == 0:\n",
        "        return \"No esta ese numero\"\n",
        "    else:\n",
        "        return \"Si que esta\"\n"
      ]
    },
    {
      "cell_type": "code",
      "execution_count": null,
      "metadata": {
        "id": "F8VTEZonRWxI"
      },
      "outputs": [],
      "source": [
        "ejer_3 = (3, 20, 3, 47, 19, 3, 29, 45, 67, 78, 90, 3, 3, 5, 2, 4, 7, 9, 4, 2, 4, 3, 3, 4, 6, 7)\n",
        "\n",
        "dev = numero(ejer_3, 20)\n",
        "print(dev)"
      ]
    },
    {
      "cell_type": "markdown",
      "metadata": {
        "id": "y0fg-ZA6RWxI"
      },
      "source": [
        "## Ejercicio 5\n",
        "1. Convierte la tupla del ejercicio 3 en una lista\n",
        "2. Convierte la tupla del ejercicio 3 en un set\n",
        "3. Convierte la tupla del ejercicio 3 en un diccionario. Usa también los indices"
      ]
    },
    {
      "cell_type": "code",
      "execution_count": null,
      "metadata": {
        "id": "_O5hXr01RWxI"
      },
      "outputs": [],
      "source": [
        "def utils_2(lista):\n",
        "    ejer_3_lista = list(lista)\n",
        "    ejer_3_set = set(lista)\n",
        "    ejer_3_dict = dict(enumerate(lista))\n",
        "\n",
        "    return ejer_3_lista, ejer_3_set, ejer_3_dict"
      ]
    },
    {
      "cell_type": "code",
      "execution_count": null,
      "metadata": {},
      "outputs": [],
      "source": [
        "ejer_3 = (3, 20, 3, 47, 19, 3, 29, 45, 67, 78, 90, 3, 3, 5, 2, 4, 7, 9, 4, 2, 4, 3, 3, 4, 6, 7)\n",
        "\n",
        "lista, r_set, r_dict = utils_2(ejer_3)\n",
        "\n",
        "\n",
        "print(lista)\n",
        "print(r_set)\n",
        "print(r_dict)"
      ]
    },
    {
      "cell_type": "markdown",
      "metadata": {
        "id": "eOdWWbxvRWxJ"
      },
      "source": [
        "## Ejercicio 6\n",
        "Multiplica todos los valores del diccionario\n",
        "> ```ejer_6 = {1: 11, 2: 22, 3: 33, 4: 44, 5: 55}```"
      ]
    },
    {
      "cell_type": "code",
      "execution_count": null,
      "metadata": {
        "id": "KcuByovKRWxJ"
      },
      "outputs": [],
      "source": [
        "def multi(dicc, num):\n",
        "    #dicc.update((x, y*num) for x, y in dicc.items())\n",
        "\n",
        "    for x, y in dicc.items():\n",
        "        dicc.update({x:y*num})\n",
        "\n",
        "    return dicc"
      ]
    },
    {
      "cell_type": "code",
      "execution_count": null,
      "metadata": {},
      "outputs": [],
      "source": [
        "ejer_6 = {1: 11, 2: 22, 3: 33, 4: 44, 5: 55}\n",
        "\n",
        "res = multi(ejer_6, 3)\n",
        "print(res)"
      ]
    },
    {
      "cell_type": "code",
      "execution_count": null,
      "metadata": {},
      "outputs": [],
      "source": [
        "def multi_2(dicc):\n",
        "    print(dicc)\n",
        "    var = 1\n",
        "    for valor in dicc.values():\n",
        "        print(valor)\n",
        "        var = var*valor\n",
        "        print(\"variable:\", var)\n",
        "\n",
        "    return var"
      ]
    },
    {
      "cell_type": "code",
      "execution_count": null,
      "metadata": {},
      "outputs": [],
      "source": [
        "ejer_6 = {1: 11, 2: 22, 3: 33, 4: 44, 5: 55}\n",
        "res = multi_2(ejer_6)\n",
        "print(\"eeeee\", res)"
      ]
    },
    {
      "cell_type": "markdown",
      "metadata": {
        "id": "W7TUSaKRRWxJ"
      },
      "source": [
        "## Ejercicio 7\n",
        "\n",
        "1. Crea un diccionario que describa un libro, con los siguientes campos o claves: \"titulo\",\"autor\",\"idioma original\",\"año de publicación\".\n",
        "2. Crea una lista, llamada librería.\n",
        "3. Añade cuatro libros a tu elección a la librería."
      ]
    },
    {
      "cell_type": "code",
      "execution_count": 31,
      "metadata": {
        "id": "d-IMRvxRRWxJ"
      },
      "outputs": [],
      "source": [
        "dict_1 = {\n",
        "    \"titulo\":\"Harry Potter\",\n",
        "    \"Autor\": \"Manolo Lama\",\n",
        "    \"idioma_original\": \"Chino\",\n",
        "    \"año\": 1997\n",
        "}\n",
        "dict_2 = {\n",
        "    \"titulo\":\"Harry Potter 2\",\n",
        "    \"Autor\": \"Fernando Alonso\",\n",
        "    \"idioma_original\": \"Español\",\n",
        "    \"año\": 1997\n",
        "}\n",
        "dict_3 = {\n",
        "    \"titulo\":\"Harry Potter 3\",\n",
        "    \"Autor\": \"Ben yart\",\n",
        "    \"idioma_original\": \"Chino\",\n",
        "    \"año\": 1995\n",
        "}\n",
        "dict_4 = {\n",
        "    \"titulo\":\"Harry Potter 4\",\n",
        "    \"Autor\": \"Messi\",\n",
        "    \"idioma_original\": \"aleman\",\n",
        "    \"año\": 1994\n",
        "}\n",
        "\n"
      ]
    },
    {
      "cell_type": "code",
      "execution_count": 32,
      "metadata": {},
      "outputs": [],
      "source": [
        "libreria = []"
      ]
    },
    {
      "cell_type": "code",
      "execution_count": 33,
      "metadata": {},
      "outputs": [
        {
          "name": "stdout",
          "output_type": "stream",
          "text": [
            "[{'titulo': 'Harry Potter', 'Autor': 'Manolo Lama', 'idioma_original': 'Chino', 'año': 1997}, {'titulo': 'Harry Potter 2', 'Autor': 'Fernando Alonso', 'idioma_original': 'Español', 'año': 1997}, {'titulo': 'Harry Potter 3', 'Autor': 'Ben yart', 'idioma_original': 'Chino', 'año': 1995}, {'titulo': 'Harry Potter 4', 'Autor': 'Messi', 'idioma_original': 'aleman', 'año': 1994}]\n"
          ]
        }
      ],
      "source": [
        "libreria.extend([dict_1, dict_2, dict_3, dict_4])\n",
        "print(libreria)"
      ]
    },
    {
      "cell_type": "markdown",
      "metadata": {
        "id": "glMoedjYRWxJ"
      },
      "source": [
        "## Ejercicio 8\n",
        "Modifica los valores del idioma de todos los libros del ejercicio anterior para que sea \"esperanto\"\n"
      ]
    },
    {
      "cell_type": "code",
      "execution_count": 34,
      "metadata": {
        "id": "veNdC-uwRWxJ"
      },
      "outputs": [],
      "source": [
        "def cambio_idioma(m, idioma):\n",
        "    print(\"Lista:\", m)\n",
        "    print(\"idioma:\", idioma)\n",
        "    for libro in m:\n",
        "        libro[\"idioma_original\"] = idioma\n",
        "    print(\"---------\", m)    \n",
        "    return m"
      ]
    },
    {
      "cell_type": "code",
      "execution_count": 35,
      "metadata": {},
      "outputs": [
        {
          "name": "stdout",
          "output_type": "stream",
          "text": [
            "Lista: [{'titulo': 'Harry Potter', 'Autor': 'Manolo Lama', 'idioma_original': 'Chino', 'año': 1997}, {'titulo': 'Harry Potter 2', 'Autor': 'Fernando Alonso', 'idioma_original': 'Español', 'año': 1997}, {'titulo': 'Harry Potter 3', 'Autor': 'Ben yart', 'idioma_original': 'Chino', 'año': 1995}, {'titulo': 'Harry Potter 4', 'Autor': 'Messi', 'idioma_original': 'aleman', 'año': 1994}]\n",
            "idioma: Español\n",
            "--------- [{'titulo': 'Harry Potter', 'Autor': 'Manolo Lama', 'idioma_original': 'Español', 'año': 1997}, {'titulo': 'Harry Potter 2', 'Autor': 'Fernando Alonso', 'idioma_original': 'Español', 'año': 1997}, {'titulo': 'Harry Potter 3', 'Autor': 'Ben yart', 'idioma_original': 'Español', 'año': 1995}, {'titulo': 'Harry Potter 4', 'Autor': 'Messi', 'idioma_original': 'Español', 'año': 1994}]\n",
            "Lista: [{'titulo': 'Harry Potter', 'Autor': 'Manolo Lama', 'idioma_original': 'Español', 'año': 1997}, {'titulo': 'Harry Potter 2', 'Autor': 'Fernando Alonso', 'idioma_original': 'Español', 'año': 1997}, {'titulo': 'Harry Potter 3', 'Autor': 'Ben yart', 'idioma_original': 'Español', 'año': 1995}, {'titulo': 'Harry Potter 4', 'Autor': 'Messi', 'idioma_original': 'Español', 'año': 1994}]\n",
            "idioma: Aleman\n",
            "--------- [{'titulo': 'Harry Potter', 'Autor': 'Manolo Lama', 'idioma_original': 'Aleman', 'año': 1997}, {'titulo': 'Harry Potter 2', 'Autor': 'Fernando Alonso', 'idioma_original': 'Aleman', 'año': 1997}, {'titulo': 'Harry Potter 3', 'Autor': 'Ben yart', 'idioma_original': 'Aleman', 'año': 1995}, {'titulo': 'Harry Potter 4', 'Autor': 'Messi', 'idioma_original': 'Aleman', 'año': 1994}]\n",
            "[{'titulo': 'Harry Potter', 'Autor': 'Manolo Lama', 'idioma_original': 'Aleman', 'año': 1997}, {'titulo': 'Harry Potter 2', 'Autor': 'Fernando Alonso', 'idioma_original': 'Aleman', 'año': 1997}, {'titulo': 'Harry Potter 3', 'Autor': 'Ben yart', 'idioma_original': 'Aleman', 'año': 1995}, {'titulo': 'Harry Potter 4', 'Autor': 'Messi', 'idioma_original': 'Aleman', 'año': 1994}]\n",
            "[{'titulo': 'Harry Potter', 'Autor': 'Manolo Lama', 'idioma_original': 'Aleman', 'año': 1997}, {'titulo': 'Harry Potter 2', 'Autor': 'Fernando Alonso', 'idioma_original': 'Aleman', 'año': 1997}, {'titulo': 'Harry Potter 3', 'Autor': 'Ben yart', 'idioma_original': 'Aleman', 'año': 1995}, {'titulo': 'Harry Potter 4', 'Autor': 'Messi', 'idioma_original': 'Aleman', 'año': 1994}]\n"
          ]
        }
      ],
      "source": [
        "lista_1 = cambio_idioma(libreria, \"Español\")\n",
        "\n",
        "lista_aleman = cambio_idioma(libreria, \"Aleman\")\n",
        "print(lista_1)\n",
        "print(lista_aleman)"
      ]
    },
    {
      "cell_type": "markdown",
      "metadata": {
        "id": "DRCJG04KRWxJ"
      },
      "source": [
        "## Ejercicio 9\n",
        "1. Escribe un programa que dada una variable titulo busque los libros que hay en la librería con ese título. Si no se encuentra debe devolver el mensaje `Ese no lo tengo, ¿mola?`\n",
        "2. Pruena que el programa con uno de tus libros y con otro que no contenga tu librería."
      ]
    },
    {
      "cell_type": "code",
      "execution_count": 51,
      "metadata": {
        "id": "eWHdJi9BRWxJ"
      },
      "outputs": [],
      "source": [
        "def buscar(lista, titulo = \"Ninguno\"):\n",
        "    for i in lista:\n",
        "        if i[\"titulo\"] == titulo:\n",
        "            return i\n",
        "    return \"Ese no lo tengo, ¿mola?\"\n",
        "        "
      ]
    },
    {
      "cell_type": "code",
      "execution_count": 52,
      "metadata": {},
      "outputs": [
        {
          "name": "stdout",
          "output_type": "stream",
          "text": [
            "Ese no lo tengo, ¿mola?\n"
          ]
        }
      ],
      "source": [
        "res = buscar(libreria)\n",
        "print(res)"
      ]
    },
    {
      "cell_type": "markdown",
      "metadata": {
        "id": "17YOpYuFRWxJ"
      },
      "source": [
        "## Ejercicio 10\n",
        "Convierte el programa del ejercicio 2 en una función al que se le pase el valor a buscar como un argumento posicional"
      ]
    },
    {
      "cell_type": "code",
      "execution_count": null,
      "metadata": {
        "id": "xbj0LgvnRWxJ"
      },
      "outputs": [],
      "source": [
        "# Terminado"
      ]
    },
    {
      "cell_type": "markdown",
      "metadata": {
        "id": "xZ-sWJxPRWxJ"
      },
      "source": [
        "## Ejercicio 11\n",
        "Convierte el programa del ejercicio 9 en una función al que se le pasen como argumentos la librería, posicional, y el título, argumento keyword con valor \"ninguno\", por defecto."
      ]
    },
    {
      "cell_type": "code",
      "execution_count": null,
      "metadata": {
        "id": "4-JrsMdNRWxK"
      },
      "outputs": [],
      "source": [
        "#Terminadod"
      ]
    },
    {
      "cell_type": "markdown",
      "metadata": {
        "id": "FtJir95QRWxK"
      },
      "source": [
        "## Ejercicio 12\n",
        "Solicitar al usuario que ingrese su dirección email. Imprimir un mensaje indicando si la dirección es válida o no, valiéndose de una función para decidirlo. Una dirección se considerará válida si contiene el símbolo \"@\"."
      ]
    },
    {
      "cell_type": "code",
      "execution_count": 55,
      "metadata": {
        "id": "sk852IZ8RWxK"
      },
      "outputs": [],
      "source": [
        "def email(mail):\n",
        "    if \"@\" in mail:\n",
        "        return \"Tu correo es valido\"\n",
        "    else:\n",
        "        return \"Correo no valido\""
      ]
    },
    {
      "cell_type": "code",
      "execution_count": 57,
      "metadata": {},
      "outputs": [
        {
          "name": "stdout",
          "output_type": "stream",
          "text": [
            "Tu correo es valido\n"
          ]
        }
      ],
      "source": [
        "email_usuario = input(\"Email:\")\n",
        "res = email(email_usuario)\n",
        "print(res)"
      ]
    },
    {
      "cell_type": "markdown",
      "metadata": {
        "id": "Kw1MWBwBRWxK"
      },
      "source": [
        "## Ejercicio 13\n",
        "Escribe una función que compruebe si un DNI es válido, devolviendo `True` en caso afirmativo.  \n",
        "En primer lugar, el DNI debe tener entre 7 y 8 dígitos numéricos.  \n",
        "Para saber si la letra del DNI es correcta puedes utilizar el siguiente fragmento de código:\n",
        ">```Python\n",
        ">DNI= 55555555\n",
        ">palabra='TRWAGMYFPDXBNJZSQVHLCKE'\n",
        ">print('La letra del DNI es: ', palabra[DNI%23])\n",
        ">````\n"
      ]
    },
    {
      "cell_type": "code",
      "execution_count": 82,
      "metadata": {
        "id": "F5Z9rSHqRWxK"
      },
      "outputs": [],
      "source": [
        "def letra_dni(dni):\n",
        "    print(type(dni))\n",
        "    palabra='TRWAGMYFPDXBNJZSQVHLCKE'\n",
        "    return palabra[dni%23]"
      ]
    },
    {
      "cell_type": "code",
      "execution_count": 83,
      "metadata": {},
      "outputs": [],
      "source": [
        "def comp_dni(dni):\n",
        "    letra = dni[-1]\n",
        "    numero = dni[:-1]\n",
        "    print(letra)\n",
        "    print(numero)\n",
        "    print(type(numero))\n",
        "    if len(numero) >=7 and  len(numero) <=8:\n",
        "        print(\"numeros validos\")\n",
        "        numero = int(numero)\n",
        "        valor_letra = letra_dni(numero)\n",
        "        if valor_letra == letra:\n",
        "            return \"Dni correcto\"\n",
        "        else:\n",
        "            return \"Dni incorrecto\"\n",
        "    else:\n",
        "        return \"Dni incorrecto\""
      ]
    },
    {
      "cell_type": "code",
      "execution_count": 86,
      "metadata": {},
      "outputs": [
        {
          "name": "stdout",
          "output_type": "stream",
          "text": [
            "H\n",
            "25466170\n",
            "<class 'str'>\n",
            "numeros validos\n",
            "<class 'int'>\n"
          ]
        },
        {
          "data": {
            "text/plain": [
              "'Dni correcto'"
            ]
          },
          "execution_count": 86,
          "metadata": {},
          "output_type": "execute_result"
        }
      ],
      "source": [
        "comp_dni(\"25466170H\")"
      ]
    }
  ],
  "metadata": {
    "colab": {
      "provenance": []
    },
    "kernelspec": {
      "display_name": "Python 3",
      "language": "python",
      "name": "python3"
    },
    "language_info": {
      "codemirror_mode": {
        "name": "ipython",
        "version": 3
      },
      "file_extension": ".py",
      "mimetype": "text/x-python",
      "name": "python",
      "nbconvert_exporter": "python",
      "pygments_lexer": "ipython3",
      "version": "3.11.4"
    },
    "orig_nbformat": 4
  },
  "nbformat": 4,
  "nbformat_minor": 0
}
