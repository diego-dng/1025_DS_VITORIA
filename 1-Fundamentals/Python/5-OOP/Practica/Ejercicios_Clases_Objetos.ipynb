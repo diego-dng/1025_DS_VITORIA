{
 "cells": [
  {
   "cell_type": "markdown",
   "metadata": {},
   "source": [
    "![imagen](./img/ejercicios.png)\n",
    "\n",
    "# Ejercicios Clases y Objetos"
   ]
  },
  {
   "attachments": {},
   "cell_type": "markdown",
   "metadata": {},
   "source": [
    "## Ejercicio 1\n",
    "Somos una empresa que tiene varias tiendas de electrodomésticos. Necesitamos un programa para manejar las tiendas, ver las ventas que han tenido, cuántos empleados hay, etc... Para ello vamos a modelizar la tienda en una clase, que tendrá las siguientes características:\n",
    "* Nombre clase: \"Tienda\"\n",
    "* Atributos comunes:\n",
    "    * Tipo: \"Electrodomésticos\"\n",
    "    * Abierta: True\n",
    "* Atributos propios de cada tienda:\n",
    "    * Nombre - String\n",
    "    * Dirección - String\n",
    "    * Número de empleados - int\n",
    "    * Ventas últimos 3 meses - Lista de 3 numeros\n",
    "* Método para calcular las ventas de todos los meses, que devuelva un número con todas las ventas.\n",
    "* Método que calcula la media de ventas de los últimos meses, por empleado\n",
    "* Método que devuelve en un string el nombre de la tienda, junto con su dirección.\n",
    "* Método que obtiene las ventas del último mes.\n",
    "* Método para dar una proyección de las ventas en caso de haber invertido X dinero en marketing en esa tienda. Siendo X el parámetro de entrada. Si X es menor de 1000, las ventas de los ultimos 3 meses hubiesen sido de (1.2 x ventas), si es mayor o igual de 1000, las ventas hubiesen sido de (1.5 x venta). El método reescribe el atributo de ventas en los últimos 3 meses, y además devuelve las ventas con el aumento.\n",
    "\n",
    "Se pide:\n",
    "1. Implementar la clase \"Tienda\"\n",
    "2. Crear tres tiendas con datos inventados\n",
    "3. Comprueba en al menos una de ellas, todo lo implementado en la clase tienda (sus atributos, media de ventas, ventas/empleado...)\n",
    "3. Calcular las ventas del último mes de todas las tiendas. Para ello usa el bucle `for`\n",
    "4. Imprime por pantalla los nombres de las tiendas cuya dirección lleve el string \"Avenida\"\n",
    "5. Seguro que ya has hecho este apartado... Documenta la clase :)"
   ]
  },
  {
   "cell_type": "code",
   "execution_count": 29,
   "metadata": {},
   "outputs": [],
   "source": [
    "class Tienda:\n",
    "\n",
    "    \"\"\"\n",
    "        Clase tienda para empresa de electrodomesticos.\n",
    "        Atributos:\n",
    "            tipo(str): Tipo de tienda.\n",
    "            abierta(bool): Si la tienda esta abierta.\n",
    "    \"\"\"\n",
    "\n",
    "    tipo = \"Electrodomestico\"\n",
    "    abierta = True\n",
    "\n",
    "    def __init__(self, nombre, direccion, empleados, ventas):\n",
    "\n",
    "        \"\"\"\n",
    "            Atributos propios de cada tienda.\n",
    "            Atributos:\n",
    "                nombre(str): Nombre de la tienda.\n",
    "                direccion(str): Dirección de cada tienda.\n",
    "                empleados(int): Numero de empleados de cada tienda.\n",
    "                ventas(list): Lista con las ventas de los ultimos 3 meses.\n",
    "        \"\"\"\n",
    "        self.nombre = nombre\n",
    "        self.direccion = direccion\n",
    "        self.empleados = empleados\n",
    "        self.ventas = ventas\n",
    "\n",
    "    def ventas_totales(self):\n",
    "        \"\"\"\n",
    "            Metodo que calcula las ventas totales de cada tienda.\n",
    "        \"\"\"\n",
    "        return sum(self.ventas)\n",
    "    \n",
    "    def media_empleado(self):\n",
    "        \"\"\"\n",
    "            Metodo que calcula la media de ventas por empleado de cada tienda.\n",
    "        \"\"\"\n",
    "        return self.ventas_totales()/self.empleados\n",
    "\n",
    "    def nombre_tienda(self):\n",
    "        \"\"\"\n",
    "            Metodo que devuelve info de la tienda.\n",
    "        \"\"\"\n",
    "        return \"El nombre de la tienda es \", self.nombre, \" y la direccción es \", self.direccion\n",
    "    \n",
    "    def ventas_ultimo_mes(self):\n",
    "        \"\"\"\n",
    "            Metodo que calcula las ventas del ultimo mes\n",
    "        \"\"\"\n",
    "        return self.ventas[-1]\n",
    "    \n",
    "    def proyeccion(self, inversion):\n",
    "        \"\"\"\n",
    "            Metodo que calcula la inversion de cada tienda.\n",
    "        \"\"\"\n",
    "        if inversion < 1000:\n",
    "            for i, j in enumerate(self.ventas):\n",
    "               self.ventas[i] = j* 1.2\n",
    "        else:\n",
    "            for i, j in enumerate(self.ventas):\n",
    "               self.ventas[i] = j* 1.5\n",
    "        return self.ventas\n"
   ]
  },
  {
   "cell_type": "code",
   "execution_count": 27,
   "metadata": {},
   "outputs": [
    {
     "name": "stdout",
     "output_type": "stream",
     "text": [
      "{'nombre': 'Tienda_1', 'direccion': 'Plaza de la Virgen Blanca', 'empleados': 3, 'ventas': [20000, 20000, 20000]}\n",
      "{'nombre': 'Tienda_2', 'direccion': 'Calle Postas', 'empleados': 5, 'ventas': [10000, 20000, 30000]}\n",
      "{'nombre': 'Tienda_3', 'direccion': 'Avenida de cuchilleria', 'empleados': 2, 'ventas': [60000, 80000, 70000]}\n"
     ]
    }
   ],
   "source": [
    "tienda_1 = Tienda(\"Tienda_1\", \"Plaza de la Virgen Blanca\", 3, [20000, 20000, 20000])\n",
    "tienda_2 = Tienda(\"Tienda_2\", \"Calle Postas\", 5, [10000, 20000, 30000])\n",
    "tienda_3 = Tienda(\"Tienda_3\", \"Avenida de cuchilleria\", 2, [60000, 80000, 70000])\n",
    "\n",
    "print(tienda_1.__dict__)\n",
    "print(tienda_2.__dict__)\n",
    "print(tienda_3.__dict__)"
   ]
  },
  {
   "cell_type": "code",
   "execution_count": null,
   "metadata": {},
   "outputs": [
    {
     "name": "stdout",
     "output_type": "stream",
     "text": [
      "90000.0\n",
      "30000.0\n",
      "('El nombre de la tienda es ', 'Tienda_1', ' y la direccción es ', 'Plaza de la Virgen Blanca')\n",
      "30000.0\n",
      "[90000.0, 120000.0, 105000.0]\n"
     ]
    }
   ],
   "source": [
    "print(tienda_1.ventas_totales())\n",
    "print(tienda_1.media_empleado())\n",
    "print(tienda_1.nombre_tienda())\n",
    "print(tienda_1.ventas_ultimo_mes())\n",
    "print(tienda_1.proyeccion(1200))"
   ]
  },
  {
   "cell_type": "code",
   "execution_count": 28,
   "metadata": {},
   "outputs": [
    {
     "name": "stdout",
     "output_type": "stream",
     "text": [
      "Tienda_3\n",
      "120000\n"
     ]
    }
   ],
   "source": [
    "ventas_totales = 0\n",
    "for tiendas in [tienda_1, tienda_2, tienda_3]:\n",
    "   #ventas_totales = ventas_totales + tiendas.ventas_ultimo_mes()\n",
    "   ventas_totales = ventas_totales + tiendas.ventas[2]\n",
    "   if \"Avenida\" in tiendas.direccion:\n",
    "      print(tiendas.nombre)\n",
    "print(ventas_totales)"
   ]
  },
  {
   "cell_type": "markdown",
   "metadata": {},
   "source": [
    "## Ejercicio 2\n",
    "En este ejercicio vamos a implementar una clase *Perro* en Python. La clase tiene las siguientes características:\n",
    "* Cosas que sabemos seguro que tiene un perro\n",
    "    * Tiene 4 patas\n",
    "    * 2 orejas\n",
    "    * 2 ojos\n",
    "    * Una velocidad de 0. Por defecto, el perro está parado\n",
    "* Cuando se inicialice:\n",
    "    * El perro será de una determinada raza\n",
    "    * Por defecto tendrá pelo \"Marrón\", a no ser que se diga lo contrario.\n",
    "    * Por defecto no tendrá dueño, a no ser que se diga lo contrario.\n",
    "    \n",
    "* Dispondrá también de un método llamado andar, que tiene un argumento de entrada (aumento_velocidad). Este valor se le sumará a la velocidad que ya llevaba el perro.\n",
    "* Necesita otro método (parar), donde pondremos la velocidad a 0.\n",
    "* Otro método llamado \"ladrar\", que tendrá un argumento de entrada, y la salida será el siguiente string: \"GUAU!\" + el argumento de entrada.\n",
    "\n",
    "\n",
    "Se pide:\n",
    "* Implementa la clase *Perro*\n",
    "* Crea un objeto de tipo *Perro*, sin dueño\n",
    "* Comprueba que están bien todos sus atributos\n",
    "* Prueba que ande, y comprueba su velocidad\n",
    "* Páralo\n",
    "* Documenta la clase *Perro*"
   ]
  },
  {
   "cell_type": "code",
   "execution_count": 31,
   "metadata": {},
   "outputs": [],
   "source": [
    "class Perro:\n",
    "    patas = 4\n",
    "    ojos = 2\n",
    "    orejas = 2\n",
    "    velocidad = 0\n",
    "\n",
    "    def __init__(self, raza, color = \"Marron\", dueño = False):\n",
    "        self.raza = raza\n",
    "        self.color = color\n",
    "        self.dueño = dueño\n",
    "    \n",
    "    def andar(self, aumento):\n",
    "        self.velocidad = self.velocidad + aumento\n",
    "        return self.velocidad\n",
    "    def parar(self):\n",
    "        self.velocidad = 0\n",
    "        return self.velocidad\n",
    "    def ladrar(self, texto):\n",
    "        return \"¡GUAU!\" + texto"
   ]
  },
  {
   "cell_type": "code",
   "execution_count": 33,
   "metadata": {},
   "outputs": [
    {
     "name": "stdout",
     "output_type": "stream",
     "text": [
      "{'raza': 'Galgo', 'color': 'blanco', 'dueño': False}\n",
      "Galgo\n",
      "blanco\n",
      "False\n",
      "2\n",
      "4\n",
      "2\n",
      "0\n"
     ]
    }
   ],
   "source": [
    "perro_1 = Perro(\"Galgo\", \"blanco\")\n",
    "print(perro_1.__dict__)\n",
    "print(perro_1.raza)\n",
    "print(perro_1.color)\n",
    "print(perro_1.dueño)\n",
    "print(perro_1.ojos)\n",
    "print(perro_1.patas)\n",
    "print(perro_1.orejas)\n",
    "print(perro_1.velocidad)"
   ]
  },
  {
   "cell_type": "code",
   "execution_count": 41,
   "metadata": {},
   "outputs": [
    {
     "name": "stdout",
     "output_type": "stream",
     "text": [
      "100\n",
      "150\n",
      "Velocidad:  150\n"
     ]
    }
   ],
   "source": [
    "print(perro_1.velocidad)\n",
    "print(perro_1.andar(50))\n",
    "print(\"Velocidad: \", perro_1.velocidad)"
   ]
  },
  {
   "cell_type": "code",
   "execution_count": 42,
   "metadata": {},
   "outputs": [
    {
     "name": "stdout",
     "output_type": "stream",
     "text": [
      "0\n",
      "0\n"
     ]
    }
   ],
   "source": [
    "print(perro_1.parar())\n",
    "print(perro_1.velocidad)"
   ]
  },
  {
   "cell_type": "code",
   "execution_count": 43,
   "metadata": {},
   "outputs": [
    {
     "name": "stdout",
     "output_type": "stream",
     "text": [
      "¡GUAU!Hola que tal??\n"
     ]
    }
   ],
   "source": [
    "print(perro_1.ladrar(\"Hola que tal??\"))"
   ]
  }
 ],
 "metadata": {
  "kernelspec": {
   "display_name": "Python 3",
   "language": "python",
   "name": "python3"
  },
  "language_info": {
   "codemirror_mode": {
    "name": "ipython",
    "version": 3
   },
   "file_extension": ".py",
   "mimetype": "text/x-python",
   "name": "python",
   "nbconvert_exporter": "python",
   "pygments_lexer": "ipython3",
   "version": "3.11.4"
  }
 },
 "nbformat": 4,
 "nbformat_minor": 4
}
